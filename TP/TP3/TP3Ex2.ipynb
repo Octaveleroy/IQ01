{
 "cells": [
  {
   "cell_type": "markdown",
   "metadata": {},
   "source": [
    "# TP3"
   ]
  },
  {
   "cell_type": "markdown",
   "metadata": {},
   "source": [
    "### Exercice 2 : l’algorithme de Simon "
   ]
  },
  {
   "cell_type": "markdown",
   "metadata": {},
   "source": [
    "#### A. Le problème  \n",
    "\n",
    "Le problème classique de Simon est un problème avec oracle* dont il est prouvé que ce problème ne peut \n",
    "pas être résolu par un algorithme classique aléatoire non-exponentiel.  \n",
    "On a une fonction F inconnue (boite noire), elle a une des deux formes possibles : \n",
    "1. F(x)=y=x. \n",
    "2. F(x)=y, et y a deux valeurs possibles. \n",
    "Nous savons que dans cette forme, on a b une chaine de bits où :  \n",
    "    a. Soit x1 et x2 : f(x1) = f(x2) alors il est sûr : x1 ⊕ x2 = B"
   ]
  },
  {
   "cell_type": "markdown",
   "metadata": {},
   "source": [
    "## B. La solution\n",
    "Étant donné cette fonction inconnue, comment pouvons-nous déterminer efficacement si F est forme 1 ou\n",
    "2 ? Et à quelle vitesse on peut déterminer b si on est dans la deuxième forme ? On peut définir le problème\n",
    "comme la recherche de b chaine de bits et la chaine 000… correspond à la forme 1. C’est l’algorithme de\n",
    "SIMON qui implémente la solution quantique et qui répond à cette question : https://github.com/qiskit-community/qiskit-textbook/blob/main/content/ch-algorithms/simon.ipynb"
   ]
  },
  {
   "cell_type": "markdown",
   "metadata": {},
   "source": [
    "### Solution classique\n",
    "\n",
    "Classiquement, si nous voulons connaître la valeur de ss avec une certitude de 100 % pour une fonction f donnée, nous devons vérifier jusqu'à 2n−1+1 entrées, où n est le nombre de bits de l'entrée. Cela signifie vérifier un peu plus de la moitié de toutes les entrées possibles jusqu'à ce que nous trouvions deux cas avec le même résultat. Comme dans le problème de Deutsch-Jozsa, il est possible, avec de la chance, de résoudre le problème dès les deux premiers essais. Mais si la fonction f est injective, ou si nous sommes vraiment malchanceux avec une fonction f qui est deux-à-un, alors nous devons effectuer la recherche complète, soit 2n−1+1 essais. Il existe des algorithmes connus qui ont une limite inférieure plus efficace (voir la Référence 2 ci-dessous), mais de manière générale, la complexité de ce problème augmente de façon exponentielle avec n.\n",
    "\n",
    "\n",
    "ans le pire cas du problème de Simon en solution classique, où l'on doit vérifier jusqu'à 2n−1+1 entrées, cela se produit lorsque :\n",
    "\n",
    "    La fonction f est deux-à-un (c'est-à-dire qu'il existe exactement deux entrées x et y telles que f(x)=f(y) pour chaque paire avec x⊕y=s), et\n",
    "    On ne tombe pas sur une collision dès les premiers essais.\n",
    "\n",
    "En d'autres termes, il faut essayer une grande partie des 2^n entrées avant de trouver deux valeurs différentes ayant le même résultat pour pouvoir en déduire le masque secret s. Cette absence de collision dans les premiers essais impose de tester systématiquement de nombreuses combinaisons, jusqu'à atteindre environ la moitié des entrées possibles, soit 2^n−1+1, pour garantir que l'on ait effectivement une collision et que l'on puisse déduire la valeur de s."
   ]
  },
  {
   "cell_type": "markdown",
   "metadata": {},
   "source": [
    "### Questions : \n",
    "1. Implémenter les circuits qui représentent l’oracle de votre fonction :  "
   ]
  },
  {
   "cell_type": "code",
   "execution_count": 5,
   "metadata": {},
   "outputs": [],
   "source": [
    "from qiskit import *\n",
    "import numpy as np\n",
    "from qiskit import QuantumCircuit"
   ]
  },
  {
   "cell_type": "code",
   "execution_count": 6,
   "metadata": {},
   "outputs": [
    {
     "data": {
      "text/html": [
       "<pre style=\"word-wrap: normal;white-space: pre;background: #fff0;line-height: 1.1;font-family: &quot;Courier New&quot;,Courier,monospace\">      ░                                               ░ \n",
       "q_0: ─░───■────■─────────■────────────────────────────░─\n",
       "      ░   │    │         │                            ░ \n",
       "q_1: ─░───┼────┼────■────┼────■─────────■─────────────░─\n",
       "      ░   │    │    │    │    │         │             ░ \n",
       "q_2: ─░───┼────┼────┼────┼────┼────■────┼────■────■───░─\n",
       "      ░ ┌─┴─┐  │  ┌─┴─┐  │    │  ┌─┴─┐  │    │    │   ░ \n",
       "q_3: ─░─┤ X ├──┼──┤ X ├──┼────┼──┤ X ├──┼────┼────┼───░─\n",
       "      ░ └───┘┌─┴─┐└───┘  │  ┌─┴─┐└───┘  │  ┌─┴─┐  │   ░ \n",
       "q_4: ─░──────┤ X ├───────┼──┤ X ├───────┼──┤ X ├──┼───░─\n",
       "      ░      └───┘     ┌─┴─┐└───┘     ┌─┴─┐└───┘┌─┴─┐ ░ \n",
       "q_5: ─░────────────────┤ X ├──────────┤ X ├─────┤ X ├─░─\n",
       "      ░                └───┘          └───┘     └───┘ ░ </pre>"
      ],
      "text/plain": [
       "      ░                                               ░ \n",
       "q_0: ─░───■────■─────────■────────────────────────────░─\n",
       "      ░   │    │         │                            ░ \n",
       "q_1: ─░───┼────┼────■────┼────■─────────■─────────────░─\n",
       "      ░   │    │    │    │    │         │             ░ \n",
       "q_2: ─░───┼────┼────┼────┼────┼────■────┼────■────■───░─\n",
       "      ░ ┌─┴─┐  │  ┌─┴─┐  │    │  ┌─┴─┐  │    │    │   ░ \n",
       "q_3: ─░─┤ X ├──┼──┤ X ├──┼────┼──┤ X ├──┼────┼────┼───░─\n",
       "      ░ └───┘┌─┴─┐└───┘  │  ┌─┴─┐└───┘  │  ┌─┴─┐  │   ░ \n",
       "q_4: ─░──────┤ X ├───────┼──┤ X ├───────┼──┤ X ├──┼───░─\n",
       "      ░      └───┘     ┌─┴─┐└───┘     ┌─┴─┐└───┘┌─┴─┐ ░ \n",
       "q_5: ─░────────────────┤ X ├──────────┤ X ├─────┤ X ├─░─\n",
       "      ░                └───┘          └───┘     └───┘ ░ "
      ]
     },
     "execution_count": 6,
     "metadata": {},
     "output_type": "execute_result"
    }
   ],
   "source": [
    "\n",
    "\n",
    "# Taille de l'entrée (n qubits de chaque côté)\n",
    "n = 3\n",
    "\n",
    "# Créer un circuit quantique avec 2n qubits\n",
    "simon_oracle = QuantumCircuit(n*2)\n",
    "\n",
    "# Placer une barrière pour séparer les étapes\n",
    "simon_oracle.barrier()\n",
    "\n",
    "# Implémenter les CNOT pour simuler l'oracle\n",
    "for i in range(n):  # Pour chaque qubit du premier groupe\n",
    "    for j in range(n, 2*n):  # Pour chaque qubit du second groupe\n",
    "        simon_oracle.cx(i, j)\n",
    "\n",
    "# Ajouter une barrière après les CNOT\n",
    "simon_oracle.barrier()\n",
    "\n",
    "# Afficher le circuit pour vérifier la structure\n",
    "simon_oracle.draw()\n"
   ]
  },
  {
   "cell_type": "markdown",
   "metadata": {},
   "source": [
    "2. Existe-t-il d’autres implémentations ?\n",
    "\n",
    "- Il existe pleins d'autres manières d'implémenter, on peut se baser sur les portes de phases, les portes de Toffoli et CCNOT, les portes x controlés, matrice d'unités ... "
   ]
  },
  {
   "cell_type": "markdown",
   "metadata": {},
   "source": [
    "3. Implémenter l’algorithme Deutsch-jozsa généralisé à n qubits (voir la documentation du lien\n",
    "précédent)"
   ]
  },
  {
   "cell_type": "code",
   "execution_count": 15,
   "metadata": {},
   "outputs": [
    {
     "data": {
      "text/html": [
       "<pre style=\"word-wrap: normal;white-space: pre;background: #fff0;line-height: 1.1;font-family: &quot;Courier New&quot;,Courier,monospace\">     ┌───┐ ░                           ░ ┌───┐┌─┐      \n",
       "q_0: ┤ H ├─░───■───────────────────────░─┤ H ├┤M├──────\n",
       "     ├───┤ ░   │                       ░ ├───┤└╥┘┌─┐   \n",
       "q_1: ┤ H ├─░───┼────■─────────■────■───░─┤ H ├─╫─┤M├───\n",
       "     ├───┤ ░   │    │         │    │   ░ ├───┤ ║ └╥┘┌─┐\n",
       "q_2: ┤ H ├─░───┼────┼────■────┼────┼───░─┤ H ├─╫──╫─┤M├\n",
       "     └───┘ ░ ┌─┴─┐  │    │    │    │   ░ └───┘ ║  ║ └╥┘\n",
       "q_3: ──────░─┤ X ├──┼────┼────┼────┼───░───────╫──╫──╫─\n",
       "           ░ └───┘┌─┴─┐  │  ┌─┴─┐  │   ░       ║  ║  ║ \n",
       "q_4: ──────░──────┤ X ├──┼──┤ X ├──┼───░───────╫──╫──╫─\n",
       "           ░      └───┘┌─┴─┐└───┘┌─┴─┐ ░       ║  ║  ║ \n",
       "q_5: ──────░───────────┤ X ├─────┤ X ├─░───────╫──╫──╫─\n",
       "           ░           └───┘     └───┘ ░       ║  ║  ║ \n",
       "c: 3/══════════════════════════════════════════╩══╩══╩═\n",
       "                                               0  1  2 </pre>"
      ],
      "text/plain": [
       "     ┌───┐ ░                           ░ ┌───┐┌─┐      \n",
       "q_0: ┤ H ├─░───■───────────────────────░─┤ H ├┤M├──────\n",
       "     ├───┤ ░   │                       ░ ├───┤└╥┘┌─┐   \n",
       "q_1: ┤ H ├─░───┼────■─────────■────■───░─┤ H ├─╫─┤M├───\n",
       "     ├───┤ ░   │    │         │    │   ░ ├───┤ ║ └╥┘┌─┐\n",
       "q_2: ┤ H ├─░───┼────┼────■────┼────┼───░─┤ H ├─╫──╫─┤M├\n",
       "     └───┘ ░ ┌─┴─┐  │    │    │    │   ░ └───┘ ║  ║ └╥┘\n",
       "q_3: ──────░─┤ X ├──┼────┼────┼────┼───░───────╫──╫──╫─\n",
       "           ░ └───┘┌─┴─┐  │  ┌─┴─┐  │   ░       ║  ║  ║ \n",
       "q_4: ──────░──────┤ X ├──┼──┤ X ├──┼───░───────╫──╫──╫─\n",
       "           ░      └───┘┌─┴─┐└───┘┌─┴─┐ ░       ║  ║  ║ \n",
       "q_5: ──────░───────────┤ X ├─────┤ X ├─░───────╫──╫──╫─\n",
       "           ░           └───┘     └───┘ ░       ║  ║  ║ \n",
       "c: 3/══════════════════════════════════════════╩══╩══╩═\n",
       "                                               0  1  2 "
      ]
     },
     "execution_count": 15,
     "metadata": {},
     "output_type": "execute_result"
    }
   ],
   "source": [
    "from qiskit_textbook.tools import simon_oracle\n",
    "\n",
    "b = '110'\n",
    "\n",
    "n = len(b)\n",
    "simon_circuit = QuantumCircuit(n*2, n)\n",
    "\n",
    "# Apply Hadamard gates before querying the oracle\n",
    "simon_circuit.h(range(n))    \n",
    "    \n",
    "# Apply barrier for visual separation\n",
    "simon_circuit.barrier()\n",
    "\n",
    "simon_circuit = simon_circuit.compose(simon_oracle(b))\n",
    "\n",
    "# Apply barrier for visual separation\n",
    "simon_circuit.barrier()\n",
    "\n",
    "# Apply Hadamard gates to the input register\n",
    "simon_circuit.h(range(n))\n",
    "\n",
    "# Measure qubits\n",
    "simon_circuit.measure(range(n), range(n))\n",
    "simon_circuit.draw()"
   ]
  },
  {
   "cell_type": "code",
   "execution_count": 16,
   "metadata": {},
   "outputs": [
    {
     "data": {
      "image/png": "[encoded data removed]",
      "text/plain": [
       "<Figure size 640x480 with 1 Axes>"
      ]
     },
     "execution_count": 16,
     "metadata": {},
     "output_type": "execute_result"
    }
   ],
   "source": [
    "from qiskit_aer import Aer\n",
    "import matplotlib.pyplot as plt \n",
    "from qiskit.visualization import * # Import les visualizations de quiskit\n",
    "\n",
    "# use local simulator\n",
    "# use local simulator\n",
    "aer_sim = Aer.get_backend('aer_simulator')\n",
    "results = aer_sim.run(simon_circuit).result()\n",
    "counts = results.get_counts()\n",
    "\n",
    "\n",
    "plot_histogram(counts)"
   ]
  },
  {
   "cell_type": "markdown",
   "metadata": {},
   "source": [
    "6. Finaliser votre rapport en expliquant les différentes étapes et le résultat de votre implémentation\n",
    "sur le simulateur (aer_simulator) et le vrai ordinateur quantique IBM"
   ]
  },
  {
   "cell_type": "markdown",
   "metadata": {},
   "source": [
    "Etapes de simulations : \n",
    "- Tout d'abord on met tous les qubits de l'entrées dans l'état de Hadamard, afin d'avoir un ensemble de qubits supérposées. Uniquement les qubits de l'entrée numéro 1.\n",
    "- On ajoute l'oracle qui permet de calculer O + f(x). Si f(x) = x dans les mesures nous riendront aux états de bases sinon en mesurant nous donera x + b sinon ou b est la chaine de b bits, car fera l'inverse du modulo. \n",
    "- on applique de nouveau la porte Hadamard sur tous les qubits de l'entrée numéro 1, afin d'avoir leur état de bases.  \n",
    "- Selon la valeur de b déduite on peut savoir s'il sagit d'un état changer ou non. \n",
    "\n",
    "\n",
    "On remarque que l'implémentation sur le simulateur Aer avec un oracle équilibrée donne une mesure des qubits finale dans l'état 111, qui est autre que 000. "
   ]
  }
 ],
 "metadata": {
  "kernelspec": {
   "display_name": "IQ01",
   "language": "python",
   "name": "python3"
  },
  "language_info": {
   "codemirror_mode": {
    "name": "ipython",
    "version": 3
   },
   "file_extension": ".py",
   "mimetype": "text/x-python",
   "name": "python",
   "nbconvert_exporter": "python",
   "pygments_lexer": "ipython3",
   "version": "3.12.5"
  }
 },
 "nbformat": 4,
 "nbformat_minor": 2
}
